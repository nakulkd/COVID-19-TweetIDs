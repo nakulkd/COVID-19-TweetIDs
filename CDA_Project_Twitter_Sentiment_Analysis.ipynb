{
  "nbformat": 4,
  "nbformat_minor": 0,
  "metadata": {
    "colab": {
      "name": "CDA Project - Twitter Sentiment Analysis",
      "provenance": [],
      "collapsed_sections": [],
      "toc_visible": true,
      "authorship_tag": "ABX9TyNnFUXFd8JwllINCTmV67P/",
      "include_colab_link": true
    },
    "kernelspec": {
      "name": "python3",
      "display_name": "Python 3"
    }
  },
  "cells": [
    {
      "cell_type": "markdown",
      "metadata": {
        "id": "view-in-github",
        "colab_type": "text"
      },
      "source": [
        "<a href=\"https://colab.research.google.com/github/nakulkd/COVID-19-TweetIDs/blob/master/CDA_Project_Twitter_Sentiment_Analysis.ipynb\" target=\"_parent\"><img src=\"https://colab.research.google.com/assets/colab-badge.svg\" alt=\"Open In Colab\"/></a>"
      ]
    },
    {
      "cell_type": "markdown",
      "metadata": {
        "id": "ezDA2a-wqQqH"
      },
      "source": [
        "# Data Initialization"
      ]
    },
    {
      "cell_type": "code",
      "metadata": {
        "id": "Z9rpco_BmTLV"
      },
      "source": [
        "GIT_USERNAME = \"nakulkd\"\n",
        "GIT_TOKEN = \"\"\n",
        "GIT_REPOSITORY = \"COVID-19-TweetIDs\"\n",
        "GIT_PATH = f\"https://{GIT_TOKEN}@github.com/{GIT_USERNAME}/{GIT_REPOSITORY}.git\""
      ],
      "execution_count": 3,
      "outputs": []
    },
    {
      "cell_type": "code",
      "metadata": {
        "id": "d8hvdCH6nMF8",
        "colab": {
          "base_uri": "https://localhost:8080/"
        },
        "outputId": "706463b8-a760-48bc-c277-f0754421d62c"
      },
      "source": [
        "!git clone \"{GIT_PATH}\""
      ],
      "execution_count": 6,
      "outputs": [
        {
          "output_type": "stream",
          "text": [
            "Cloning into 'COVID-19-TweetIDs'...\n",
            "remote: Enumerating objects: 7312, done.\u001b[K\n",
            "remote: Total 7312 (delta 0), reused 0 (delta 0), pack-reused 7312\u001b[K\n",
            "Receiving objects: 100% (7312/7312), 4.58 GiB | 17.67 MiB/s, done.\n",
            "Resolving deltas: 100% (238/238), done.\n",
            "Checking out files: 100% (6929/6929), done.\n"
          ],
          "name": "stdout"
        }
      ]
    },
    {
      "cell_type": "code",
      "metadata": {
        "colab": {
          "base_uri": "https://localhost:8080/"
        },
        "id": "gT2Hl0jApkVR",
        "outputId": "cbfbace3-a9da-4fd2-a7f2-2c5d84a60329"
      },
      "source": [
        "!dir"
      ],
      "execution_count": 8,
      "outputs": [
        {
          "output_type": "stream",
          "text": [
            "COVID-19-TweetIDs  sample_data\n"
          ],
          "name": "stdout"
        }
      ]
    },
    {
      "cell_type": "markdown",
      "metadata": {
        "id": "L-rbH9MJqWov"
      },
      "source": [
        "# Directory Walk"
      ]
    },
    {
      "cell_type": "code",
      "metadata": {
        "id": "N5NxUC9pqV8w"
      },
      "source": [
        "import os"
      ],
      "execution_count": 9,
      "outputs": []
    },
    {
      "cell_type": "code",
      "metadata": {
        "id": "Y0l7F_SyqlgZ"
      },
      "source": [
        "os.chdir(\"COVID-19-TweetIDs\")"
      ],
      "execution_count": 10,
      "outputs": []
    },
    {
      "cell_type": "code",
      "metadata": {
        "id": "D5R0wn7aqo_L"
      },
      "source": [
        "os.chdir(\"./2020-01\")"
      ],
      "execution_count": 27,
      "outputs": []
    },
    {
      "cell_type": "code",
      "metadata": {
        "id": "cgjPDfylvBKv"
      },
      "source": [
        "fileList = os.listdir()"
      ],
      "execution_count": 28,
      "outputs": []
    },
    {
      "cell_type": "code",
      "metadata": {
        "id": "VSa3IWnpvq7L"
      },
      "source": [
        "folder_name = '2020-01'"
      ],
      "execution_count": 31,
      "outputs": []
    },
    {
      "cell_type": "code",
      "metadata": {
        "id": "V4F-DTm4ycIR"
      },
      "source": [
        "!rm test_sampler.csv"
      ],
      "execution_count": 55,
      "outputs": []
    },
    {
      "cell_type": "code",
      "metadata": {
        "id": "KufLhiPxwUJa"
      },
      "source": [
        "with open('test_sampler.txt', 'w') as cursor:\n",
        "    i = 0\n",
        "    while i < 10:\n",
        "        with open(fileList[i], 'r') as tweet:\n",
        "            tweet_count = 0\n",
        "            for line in tweet:\n",
        "                cursor.write(f\"{folder_name},{fileList[i]},{line}\")\n",
        "                tweet_count += 1\n",
        "                if tweet_count == 10:\n",
        "                    break\n",
        "        i += 1"
      ],
      "execution_count": 58,
      "outputs": []
    },
    {
      "cell_type": "code",
      "metadata": {
        "id": "7nGGHEaBxdRi"
      },
      "source": [
        "counter = 0\n",
        "with open('test_sampler.txt', 'r') as point:\n",
        "    for line in point:\n",
        "        counter += 1"
      ],
      "execution_count": 59,
      "outputs": []
    },
    {
      "cell_type": "code",
      "metadata": {
        "colab": {
          "base_uri": "https://localhost:8080/"
        },
        "id": "5QspG4tS08vV",
        "outputId": "3591098c-e28c-456f-895a-7e0a33a0c4e3"
      },
      "source": [
        "counter"
      ],
      "execution_count": 60,
      "outputs": [
        {
          "output_type": "execute_result",
          "data": {
            "text/plain": [
              "100"
            ]
          },
          "metadata": {
            "tags": []
          },
          "execution_count": 60
        }
      ]
    },
    {
      "cell_type": "markdown",
      "metadata": {
        "id": "jNx-pT5L7aFn"
      },
      "source": [
        "## Tweet ID Sampler"
      ]
    },
    {
      "cell_type": "code",
      "metadata": {
        "id": "r2Bp6BDy1Ku2"
      },
      "source": [
        "folder_list = ['2020-02', '2020-03', '2020-04', '2020-05', '2020-06', '2020-07', '2020-08', '2020-09', '2020-10', '2020-11']"
      ],
      "execution_count": 87,
      "outputs": []
    },
    {
      "cell_type": "code",
      "metadata": {
        "colab": {
          "base_uri": "https://localhost:8080/"
        },
        "id": "1JTxBvDf1jU5",
        "outputId": "010e4354-2bb1-4feb-b156-1db24c5e82d1"
      },
      "source": [
        "## Sampler\n",
        "\n",
        "file_count = 20\n",
        "tweets = 250\n",
        "\n",
        "with open('sampled_tweets.txt', 'w') as cursor: # Create sample holder file as CSV\n",
        "    for folder in folder_list: # Loop through each folder\n",
        "        print(f\"Currently in Folder '{folder}'\")\n",
        "        os.chdir(f'./{folder}') # Enter Folder\n",
        "        fileList = os.listdir() # List the files\n",
        "        i = 0 # Init the file loop index\n",
        "        while i < file_count: # For 10 files in each folder...\n",
        "            with open(fileList[i], 'r') as tweet:\n",
        "                tweet_count = 0\n",
        "                for line in tweet:\n",
        "                    cursor.write(f\"{folder},{fileList[i]},{line}\") # ... Write Tweet ID and corresponding metadata...\n",
        "                    tweet_count += 1\n",
        "                    if tweet_count == tweets: # ... Upto 10 entries per file\n",
        "                        break\n",
        "            i += 1\n",
        "        os.chdir('..') # Exit Folder"
      ],
      "execution_count": 108,
      "outputs": [
        {
          "output_type": "stream",
          "text": [
            "Currently in Folder '2020-02'\n",
            "Currently in Folder '2020-03'\n",
            "Currently in Folder '2020-04'\n",
            "Currently in Folder '2020-05'\n",
            "Currently in Folder '2020-06'\n",
            "Currently in Folder '2020-07'\n",
            "Currently in Folder '2020-08'\n",
            "Currently in Folder '2020-09'\n",
            "Currently in Folder '2020-10'\n",
            "Currently in Folder '2020-11'\n"
          ],
          "name": "stdout"
        }
      ]
    },
    {
      "cell_type": "code",
      "metadata": {
        "colab": {
          "base_uri": "https://localhost:8080/"
        },
        "id": "r8a37BdR23uD",
        "outputId": "06b846c0-3d05-46b3-a889-e28540711027"
      },
      "source": [
        "counter = 0\n",
        "with open('sampled_tweets.txt', 'r') as point:\n",
        "    for line in point:\n",
        "        counter += 1\n",
        "\n",
        "print(counter)"
      ],
      "execution_count": 109,
      "outputs": [
        {
          "output_type": "stream",
          "text": [
            "50000\n"
          ],
          "name": "stdout"
        }
      ]
    },
    {
      "cell_type": "markdown",
      "metadata": {
        "id": "whCg8rmn8gRj"
      },
      "source": [
        "# Rehydrating Tweets"
      ]
    },
    {
      "cell_type": "code",
      "metadata": {
        "colab": {
          "base_uri": "https://localhost:8080/"
        },
        "id": "laAUXrkv8iJ0",
        "outputId": "950bd9f1-da18-4794-affa-b9e1c8ed1959"
      },
      "source": [
        "!pip3 install twarc\n",
        "!pip3 install tqdm"
      ],
      "execution_count": 91,
      "outputs": [
        {
          "output_type": "stream",
          "text": [
            "Collecting twarc\n",
            "  Downloading https://files.pythonhosted.org/packages/fc/56/bf9186110d7828bfb08b51ff39ade13fe00232c78338f58d8cd2c47c6d12/twarc-1.12.0.tar.gz\n",
            "Requirement already satisfied: pytest in /usr/local/lib/python3.6/dist-packages (from twarc) (3.6.4)\n",
            "Requirement already satisfied: python-dateutil in /usr/local/lib/python3.6/dist-packages (from twarc) (2.8.1)\n",
            "Requirement already satisfied: requests_oauthlib in /usr/local/lib/python3.6/dist-packages (from twarc) (1.3.0)\n",
            "Requirement already satisfied: more-itertools>=4.0.0 in /usr/local/lib/python3.6/dist-packages (from pytest->twarc) (8.6.0)\n",
            "Requirement already satisfied: pluggy<0.8,>=0.5 in /usr/local/lib/python3.6/dist-packages (from pytest->twarc) (0.7.1)\n",
            "Requirement already satisfied: setuptools in /usr/local/lib/python3.6/dist-packages (from pytest->twarc) (50.3.2)\n",
            "Requirement already satisfied: atomicwrites>=1.0 in /usr/local/lib/python3.6/dist-packages (from pytest->twarc) (1.4.0)\n",
            "Requirement already satisfied: six>=1.10.0 in /usr/local/lib/python3.6/dist-packages (from pytest->twarc) (1.15.0)\n",
            "Requirement already satisfied: py>=1.5.0 in /usr/local/lib/python3.6/dist-packages (from pytest->twarc) (1.9.0)\n",
            "Requirement already satisfied: attrs>=17.4.0 in /usr/local/lib/python3.6/dist-packages (from pytest->twarc) (20.3.0)\n",
            "Requirement already satisfied: oauthlib>=3.0.0 in /usr/local/lib/python3.6/dist-packages (from requests_oauthlib->twarc) (3.1.0)\n",
            "Requirement already satisfied: requests>=2.0.0 in /usr/local/lib/python3.6/dist-packages (from requests_oauthlib->twarc) (2.23.0)\n",
            "Requirement already satisfied: urllib3!=1.25.0,!=1.25.1,<1.26,>=1.21.1 in /usr/local/lib/python3.6/dist-packages (from requests>=2.0.0->requests_oauthlib->twarc) (1.24.3)\n",
            "Requirement already satisfied: idna<3,>=2.5 in /usr/local/lib/python3.6/dist-packages (from requests>=2.0.0->requests_oauthlib->twarc) (2.10)\n",
            "Requirement already satisfied: certifi>=2017.4.17 in /usr/local/lib/python3.6/dist-packages (from requests>=2.0.0->requests_oauthlib->twarc) (2020.11.8)\n",
            "Requirement already satisfied: chardet<4,>=3.0.2 in /usr/local/lib/python3.6/dist-packages (from requests>=2.0.0->requests_oauthlib->twarc) (3.0.4)\n",
            "Building wheels for collected packages: twarc\n",
            "  Building wheel for twarc (setup.py) ... \u001b[?25l\u001b[?25hdone\n",
            "  Created wheel for twarc: filename=twarc-1.12.0-cp36-none-any.whl size=25297 sha256=6444ed1fd5817c8b95fa74902cf5a3a89c4506f6bd0c6dafd5fa20d1988bae3c\n",
            "  Stored in directory: /root/.cache/pip/wheels/eb/c9/a3/a5d1f92bb65159f864294a65d30adea23d453144a31754cda9\n",
            "Successfully built twarc\n",
            "Installing collected packages: twarc\n",
            "Successfully installed twarc-1.12.0\n",
            "Requirement already satisfied: tqdm in /usr/local/lib/python3.6/dist-packages (4.41.1)\n"
          ],
          "name": "stdout"
        }
      ]
    },
    {
      "cell_type": "code",
      "metadata": {
        "id": "Y7m8xwSA8y9J"
      },
      "source": [
        "!twarc configure"
      ],
      "execution_count": null,
      "outputs": []
    },
    {
      "cell_type": "code",
      "metadata": {
        "id": "MfWksls8-dLY"
      },
      "source": [
        "import gzip\n",
        "import json\n",
        "\n",
        "from tqdm import tqdm\n",
        "from twarc import Twarc\n",
        "from pathlib import Path\n",
        "\n",
        "twarc = Twarc()"
      ],
      "execution_count": 95,
      "outputs": []
    },
    {
      "cell_type": "code",
      "metadata": {
        "id": "WT8gPPDH-pWk"
      },
      "source": [
        "def _reader_generator(reader):\n",
        "    b = reader(1024 * 1024)\n",
        "    while b:\n",
        "        yield b\n",
        "        b = reader(1024 * 1024)\n",
        "\n",
        "\n",
        "def raw_newline_count(fname):\n",
        "    \"\"\"\n",
        "    Counts number of lines in file\n",
        "    \"\"\"\n",
        "    f = open(fname, 'rb')\n",
        "    f_gen = _reader_generator(f.raw.read)\n",
        "    return sum(buf.count(b'\\n') for buf in f_gen)\n",
        "\n",
        "\n",
        "def hydrate(id_file):\n",
        "    print('hydrating {}'.format(id_file))\n",
        "\n",
        "    gzip_path = id_file.with_suffix('.jsonl.gz')\n",
        "    if gzip_path.is_file():\n",
        "        print('skipping json file already exists: {}'.format(gzip_path))\n",
        "        return\n",
        "\n",
        "    num_ids = raw_newline_count(id_file)\n",
        "\n",
        "    with gzip.open(gzip_path, 'w') as output:\n",
        "        with tqdm(total=num_ids) as pbar:\n",
        "            for tweet in twarc.hydrate(id_file.open()):\n",
        "                output.write(json.dumps(tweet).encode('utf8') + b\"\\n\")\n",
        "                pbar.update(1)"
      ],
      "execution_count": 96,
      "outputs": []
    },
    {
      "cell_type": "code",
      "metadata": {
        "id": "J9HUqyFH_NJp"
      },
      "source": [
        "data_dirs = ['Samples']\n",
        "for data_dir in data_dirs:\n",
        "    for path in Path(data_dir).iterdir():\n",
        "        if path.name.endswith('.txt'):\n",
        "            hydrate(path)"
      ],
      "execution_count": null,
      "outputs": []
    },
    {
      "cell_type": "code",
      "metadata": {
        "id": "A56OfjnN_lAM"
      },
      "source": [
        "os.chdir('./Samples')"
      ],
      "execution_count": 116,
      "outputs": []
    },
    {
      "cell_type": "code",
      "metadata": {
        "id": "X9U1bx5kGLoH"
      },
      "source": [
        "!twarc hydrate sampled_tweets_only.txt > tweets.jsonl"
      ],
      "execution_count": null,
      "outputs": []
    },
    {
      "cell_type": "code",
      "metadata": {
        "id": "NRqw00HqAWv_"
      },
      "source": [
        "json_content = []\n",
        "filename = 'sampled_tweets.jsonl.gz'\n",
        "\n",
        "with gzip.open(filename , 'rb') as gzip_file:\n",
        "    for line in gzip_file:  # Read one line.\n",
        "        line = line.rstrip()\n",
        "        if line:  # Any JSON data on it?\n",
        "            obj = json.loads(line)\n",
        "            json_content.append(obj)"
      ],
      "execution_count": null,
      "outputs": []
    },
    {
      "cell_type": "code",
      "metadata": {
        "colab": {
          "base_uri": "https://localhost:8080/"
        },
        "id": "mOI_0QwgBMZ7",
        "outputId": "37df90d3-6f88-4859-e7b1-3e1b4fd07f7a"
      },
      "source": [
        "len(json_content)"
      ],
      "execution_count": 105,
      "outputs": [
        {
          "output_type": "execute_result",
          "data": {
            "text/plain": [
              "8457"
            ]
          },
          "metadata": {
            "tags": []
          },
          "execution_count": 105
        }
      ]
    },
    {
      "cell_type": "code",
      "metadata": {
        "colab": {
          "base_uri": "https://localhost:8080/",
          "height": 35
        },
        "id": "oDEcIQEcEMoZ",
        "outputId": "3d0c3aa4-c2c5-43d4-b41c-23f811163a83"
      },
      "source": [
        "os.chdir('..')\n",
        "os.getcwd()"
      ],
      "execution_count": 113,
      "outputs": [
        {
          "output_type": "execute_result",
          "data": {
            "application/vnd.google.colaboratory.intrinsic+json": {
              "type": "string"
            },
            "text/plain": [
              "'/content/COVID-19-TweetIDs'"
            ]
          },
          "metadata": {
            "tags": []
          },
          "execution_count": 113
        }
      ]
    }
  ]
}